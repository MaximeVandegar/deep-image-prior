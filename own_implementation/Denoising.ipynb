{
 "cells": [
  {
   "cell_type": "code",
   "execution_count": 1,
   "metadata": {},
   "outputs": [],
   "source": [
    "from matplotlib.image import imread\n",
    "from matplotlib.image import imsave\n",
    "import matplotlib.pyplot as plt\n",
    "import numpy as np\n",
    "import torch\n",
    "from torch import optim\n",
    "from models import skip"
   ]
  },
  {
   "cell_type": "code",
   "execution_count": 2,
   "metadata": {},
   "outputs": [],
   "source": [
    "np.random.seed(0)\n",
    "dtype = torch.FloatTensor\n",
    "device = torch.device(\"cuda\" if torch.cuda.is_available() \n",
    "                                  else \"cpu\")"
   ]
  },
  {
   "cell_type": "code",
   "execution_count": 3,
   "metadata": {},
   "outputs": [],
   "source": [
    "img = imread('snail.jpg')"
   ]
  },
  {
   "cell_type": "markdown",
   "metadata": {},
   "source": [
    "### Standard noise deviation for a dynamic range [0, 255]"
   ]
  },
  {
   "cell_type": "code",
   "execution_count": 4,
   "metadata": {},
   "outputs": [],
   "source": [
    "sigma = 25.0"
   ]
  },
  {
   "cell_type": "markdown",
   "metadata": {},
   "source": [
    "### Reshape the image so that it matches with the output of the network (each dimension being a multiple of 4)"
   ]
  },
  {
   "cell_type": "code",
   "execution_count": 5,
   "metadata": {},
   "outputs": [],
   "source": [
    "img = img[1:257, 8:392] # TODO, generalize"
   ]
  },
  {
   "cell_type": "markdown",
   "metadata": {},
   "source": [
    "### Corrupt the image"
   ]
  },
  {
   "cell_type": "code",
   "execution_count": 6,
   "metadata": {},
   "outputs": [],
   "source": [
    "corrupted_img = np.clip(img + np.random.normal(loc=0.0, scale=sigma, size=img.shape), 0, 255.0)/255.0\n",
    "imsave('corrupted_img.png', corrupted_img)"
   ]
  },
  {
   "cell_type": "markdown",
   "metadata": {},
   "source": [
    "### Latent space"
   ]
  },
  {
   "cell_type": "code",
   "execution_count": 7,
   "metadata": {},
   "outputs": [],
   "source": [
    "z = np.random.normal(loc=0.0, scale=sigma/255.0, size=(1,3, 256, 384)) # TODO, generalize shape"
   ]
  },
  {
   "cell_type": "markdown",
   "metadata": {},
   "source": [
    "### Generative Network"
   ]
  },
  {
   "cell_type": "code",
   "execution_count": 8,
   "metadata": {},
   "outputs": [],
   "source": [
    "input_depth = 3\n",
    "pad = 'reflection'\n",
    "net = skip(\n",
    "                input_depth, 3, \n",
    "                num_channels_down = [8, 16, 32, 64, 128], \n",
    "                num_channels_up   = [8, 16, 32, 64, 128],\n",
    "                num_channels_skip = [0, 0, 0, 4, 4], \n",
    "                upsample_mode='bilinear',\n",
    "                need_sigmoid=True, need_bias=True, pad=pad, act_fun='LeakyReLU')\n",
    "net.to(device)\n",
    "net = net.float()\n",
    "model = net"
   ]
  },
  {
   "cell_type": "markdown",
   "metadata": {},
   "source": [
    "### Compute the number of parameters"
   ]
  },
  {
   "cell_type": "code",
   "execution_count": 9,
   "metadata": {},
   "outputs": [
    {
     "name": "stdout",
     "output_type": "stream",
     "text": [
      "Number of params: 572827\n"
     ]
    }
   ],
   "source": [
    "s  = sum([np.prod(list(p.size())) for p in net.parameters()]); \n",
    "print ('Number of params: %d' % s)"
   ]
  },
  {
   "cell_type": "code",
   "execution_count": 10,
   "metadata": {},
   "outputs": [],
   "source": [
    "optimizer = optim.Adam(net.parameters(), lr=0.01)\n",
    "criterion = torch.nn.MSELoss()"
   ]
  },
  {
   "cell_type": "markdown",
   "metadata": {},
   "source": [
    "### Hyperparameters"
   ]
  },
  {
   "cell_type": "code",
   "execution_count": 11,
   "metadata": {},
   "outputs": [],
   "source": [
    "epochs = 100000\n",
    "steps = 0\n",
    "running_loss = 0\n",
    "print_every = 500"
   ]
  },
  {
   "cell_type": "markdown",
   "metadata": {},
   "source": [
    "### Denoise the image"
   ]
  },
  {
   "cell_type": "code",
   "execution_count": 12,
   "metadata": {},
   "outputs": [],
   "source": [
    "a =  torch.FloatTensor(corrupted_img.transpose(2,0,1)).to(device)\n",
    "b = torch.FloatTensor(img.transpose(2,0,1)/255.).to(device)"
   ]
  },
  {
   "cell_type": "code",
   "execution_count": 13,
   "metadata": {},
   "outputs": [
    {
     "name": "stderr",
     "output_type": "stream",
     "text": [
      "/usr/local/lib/python3.6/dist-packages/torch/nn/functional.py:2479: UserWarning: Default upsampling behavior when mode=bilinear is changed to align_corners=False since 0.4.0. Please specify align_corners=True if the old behavior is desired. See the documentation of nn.Upsample for details.\n",
      "  \"See the documentation of nn.Upsample for details.\".format(mode))\n"
     ]
    },
    {
     "name": "stdout",
     "output_type": "stream",
     "text": [
      "Epoch 500/100000.. Train loss: 0.018.. \n",
      "Epoch 1000/100000.. Train loss: 0.008.. \n",
      "Epoch 1500/100000.. Train loss: 0.008.. \n",
      "Epoch 2000/100000.. Train loss: 0.008.. \n",
      "Epoch 2500/100000.. Train loss: 0.008.. \n",
      "Epoch 3000/100000.. Train loss: 0.007.. \n",
      "Epoch 3500/100000.. Train loss: 0.007.. \n",
      "Epoch 4000/100000.. Train loss: 0.007.. \n",
      "Epoch 4500/100000.. Train loss: 0.007.. \n",
      "Epoch 5000/100000.. Train loss: 0.007.. \n",
      "Epoch 5500/100000.. Train loss: 0.007.. \n",
      "Epoch 6000/100000.. Train loss: 0.007.. \n",
      "Epoch 6500/100000.. Train loss: 0.007.. \n",
      "Epoch 7000/100000.. Train loss: 0.007.. \n",
      "Epoch 7500/100000.. Train loss: 0.007.. \n",
      "Epoch 8000/100000.. Train loss: 0.007.. \n",
      "Epoch 8500/100000.. Train loss: 0.007.. \n",
      "Epoch 9000/100000.. Train loss: 0.007.. \n",
      "Epoch 9500/100000.. Train loss: 0.007.. \n",
      "Epoch 10000/100000.. Train loss: 0.007.. \n",
      "Epoch 10500/100000.. Train loss: 0.006.. \n",
      "Epoch 11000/100000.. Train loss: 0.006.. \n",
      "Epoch 11500/100000.. Train loss: 0.006.. \n",
      "Epoch 12000/100000.. Train loss: 0.006.. \n",
      "Epoch 12500/100000.. Train loss: 0.006.. \n",
      "Epoch 13000/100000.. Train loss: 0.006.. \n",
      "Epoch 13500/100000.. Train loss: 0.006.. \n",
      "Epoch 14000/100000.. Train loss: 0.006.. \n",
      "Epoch 14500/100000.. Train loss: 0.006.. \n",
      "Epoch 15000/100000.. Train loss: 0.006.. \n",
      "Epoch 15500/100000.. Train loss: 0.006.. \n",
      "Epoch 16000/100000.. Train loss: 0.006.. \n",
      "Epoch 16500/100000.. Train loss: 0.006.. \n",
      "Epoch 17000/100000.. Train loss: 0.006.. \n",
      "Epoch 17500/100000.. Train loss: 0.006.. \n",
      "Epoch 18000/100000.. Train loss: 0.006.. \n",
      "Epoch 18500/100000.. Train loss: 0.006.. \n",
      "Epoch 19000/100000.. Train loss: 0.006.. \n",
      "Epoch 19500/100000.. Train loss: 0.006.. \n",
      "Epoch 20000/100000.. Train loss: 0.006.. \n",
      "Epoch 20500/100000.. Train loss: 0.006.. \n",
      "Epoch 21000/100000.. Train loss: 0.006.. \n",
      "Epoch 21500/100000.. Train loss: 0.006.. \n",
      "Epoch 22000/100000.. Train loss: 0.006.. \n",
      "Epoch 22500/100000.. Train loss: 0.006.. \n",
      "Epoch 23000/100000.. Train loss: 0.006.. \n",
      "Epoch 23500/100000.. Train loss: 0.006.. \n",
      "Epoch 24000/100000.. Train loss: 0.006.. \n",
      "Epoch 24500/100000.. Train loss: 0.006.. \n",
      "Epoch 25000/100000.. Train loss: 0.006.. \n",
      "Epoch 25500/100000.. Train loss: 0.006.. \n",
      "Epoch 26000/100000.. Train loss: 0.006.. \n",
      "Epoch 26500/100000.. Train loss: 0.006.. \n",
      "Epoch 27000/100000.. Train loss: 0.006.. \n",
      "Epoch 27500/100000.. Train loss: 0.006.. \n",
      "Epoch 28000/100000.. Train loss: 0.006.. \n",
      "Epoch 28500/100000.. Train loss: 0.006.. \n",
      "Epoch 29000/100000.. Train loss: 0.006.. \n",
      "Epoch 29500/100000.. Train loss: 0.006.. \n",
      "Epoch 30000/100000.. Train loss: 0.006.. \n",
      "Epoch 30500/100000.. Train loss: 0.006.. \n",
      "Epoch 31000/100000.. Train loss: 0.006.. \n",
      "Epoch 31500/100000.. Train loss: 0.006.. \n",
      "Epoch 32000/100000.. Train loss: 0.006.. \n",
      "Epoch 32500/100000.. Train loss: 0.006.. \n",
      "Epoch 33000/100000.. Train loss: 0.006.. \n",
      "Epoch 33500/100000.. Train loss: 0.006.. \n",
      "Epoch 34000/100000.. Train loss: 0.006.. \n",
      "Epoch 34500/100000.. Train loss: 0.006.. \n",
      "Epoch 35000/100000.. Train loss: 0.006.. \n",
      "Epoch 35500/100000.. Train loss: 0.006.. \n",
      "Epoch 36000/100000.. Train loss: 0.006.. \n",
      "Epoch 36500/100000.. Train loss: 0.006.. \n",
      "Epoch 37000/100000.. Train loss: 0.006.. \n",
      "Epoch 37500/100000.. Train loss: 0.006.. \n",
      "Epoch 38000/100000.. Train loss: 0.006.. \n",
      "Epoch 38500/100000.. Train loss: 0.006.. \n",
      "Epoch 39000/100000.. Train loss: 0.006.. \n",
      "Epoch 39500/100000.. Train loss: 0.006.. \n",
      "Epoch 40000/100000.. Train loss: 0.006.. \n",
      "Epoch 40500/100000.. Train loss: 0.006.. \n",
      "Epoch 41000/100000.. Train loss: 0.006.. \n",
      "Epoch 41500/100000.. Train loss: 0.006.. \n",
      "Epoch 42000/100000.. Train loss: 0.006.. \n",
      "Epoch 42500/100000.. Train loss: 0.006.. \n",
      "Epoch 43000/100000.. Train loss: 0.006.. \n",
      "Epoch 43500/100000.. Train loss: 0.006.. \n",
      "Epoch 44000/100000.. Train loss: 0.006.. \n",
      "Epoch 44500/100000.. Train loss: 0.006.. \n",
      "Epoch 45000/100000.. Train loss: 0.006.. \n",
      "Epoch 45500/100000.. Train loss: 0.006.. \n",
      "Epoch 46000/100000.. Train loss: 0.006.. \n",
      "Epoch 46500/100000.. Train loss: 0.006.. \n",
      "Epoch 47000/100000.. Train loss: 0.006.. \n",
      "Epoch 47500/100000.. Train loss: 0.006.. \n",
      "Epoch 48000/100000.. Train loss: 0.006.. \n",
      "Epoch 48500/100000.. Train loss: 0.006.. \n",
      "Epoch 49000/100000.. Train loss: 0.006.. \n",
      "Epoch 49500/100000.. Train loss: 0.006.. \n",
      "Epoch 50000/100000.. Train loss: 0.006.. \n",
      "Epoch 50500/100000.. Train loss: 0.006.. \n",
      "Epoch 51000/100000.. Train loss: 0.006.. \n",
      "Epoch 51500/100000.. Train loss: 0.006.. \n",
      "Epoch 52000/100000.. Train loss: 0.006.. \n",
      "Epoch 52500/100000.. Train loss: 0.006.. \n",
      "Epoch 53000/100000.. Train loss: 0.005.. \n",
      "Epoch 53500/100000.. Train loss: 0.005.. \n",
      "Epoch 54000/100000.. Train loss: 0.005.. \n",
      "Epoch 54500/100000.. Train loss: 0.005.. \n",
      "Epoch 55000/100000.. Train loss: 0.005.. \n",
      "Epoch 55500/100000.. Train loss: 0.005.. \n",
      "Epoch 56000/100000.. Train loss: 0.005.. \n",
      "Epoch 56500/100000.. Train loss: 0.005.. \n",
      "Epoch 57000/100000.. Train loss: 0.005.. \n",
      "Epoch 57500/100000.. Train loss: 0.005.. \n",
      "Epoch 58000/100000.. Train loss: 0.005.. \n",
      "Epoch 58500/100000.. Train loss: 0.005.. \n",
      "Epoch 59000/100000.. Train loss: 0.005.. \n",
      "Epoch 59500/100000.. Train loss: 0.005.. \n",
      "Epoch 60000/100000.. Train loss: 0.005.. \n",
      "Epoch 60500/100000.. Train loss: 0.005.. \n",
      "Epoch 61000/100000.. Train loss: 0.005.. \n",
      "Epoch 61500/100000.. Train loss: 0.005.. \n",
      "Epoch 62000/100000.. Train loss: 0.005.. \n",
      "Epoch 62500/100000.. Train loss: 0.005.. \n",
      "Epoch 63000/100000.. Train loss: 0.005.. \n",
      "Epoch 63500/100000.. Train loss: 0.005.. \n",
      "Epoch 64000/100000.. Train loss: 0.005.. \n",
      "Epoch 64500/100000.. Train loss: 0.005.. \n",
      "Epoch 65000/100000.. Train loss: 0.005.. \n",
      "Epoch 65500/100000.. Train loss: 0.005.. \n",
      "Epoch 66000/100000.. Train loss: 0.005.. \n",
      "Epoch 66500/100000.. Train loss: 0.005.. \n",
      "Epoch 67000/100000.. Train loss: 0.005.. \n",
      "Epoch 67500/100000.. Train loss: 0.005.. \n",
      "Epoch 68000/100000.. Train loss: 0.005.. \n",
      "Epoch 68500/100000.. Train loss: 0.005.. \n",
      "Epoch 69000/100000.. Train loss: 0.005.. \n",
      "Epoch 69500/100000.. Train loss: 0.005.. \n",
      "Epoch 70000/100000.. Train loss: 0.005.. \n",
      "Epoch 70500/100000.. Train loss: 0.005.. \n",
      "Epoch 71000/100000.. Train loss: 0.005.. \n",
      "Epoch 71500/100000.. Train loss: 0.005.. \n",
      "Epoch 72000/100000.. Train loss: 0.005.. \n",
      "Epoch 72500/100000.. Train loss: 0.005.. \n",
      "Epoch 73000/100000.. Train loss: 0.005.. \n",
      "Epoch 73500/100000.. Train loss: 0.005.. \n",
      "Epoch 74000/100000.. Train loss: 0.005.. \n",
      "Epoch 74500/100000.. Train loss: 0.005.. \n",
      "Epoch 75000/100000.. Train loss: 0.005.. \n",
      "Epoch 75500/100000.. Train loss: 0.005.. \n",
      "Epoch 76000/100000.. Train loss: 0.005.. \n",
      "Epoch 76500/100000.. Train loss: 0.005.. \n",
      "Epoch 77000/100000.. Train loss: 0.005.. \n",
      "Epoch 77500/100000.. Train loss: 0.005.. \n",
      "Epoch 78000/100000.. Train loss: 0.005.. \n",
      "Epoch 78500/100000.. Train loss: 0.005.. \n",
      "Epoch 79000/100000.. Train loss: 0.005.. \n",
      "Epoch 79500/100000.. Train loss: 0.005.. \n",
      "Epoch 80000/100000.. Train loss: 0.005.. \n",
      "Epoch 80500/100000.. Train loss: 0.005.. \n",
      "Epoch 81000/100000.. Train loss: 0.005.. \n",
      "Epoch 81500/100000.. Train loss: 0.005.. \n",
      "Epoch 82000/100000.. Train loss: 0.005.. \n",
      "Epoch 82500/100000.. Train loss: 0.005.. \n",
      "Epoch 83000/100000.. Train loss: 0.005.. \n",
      "Epoch 83500/100000.. Train loss: 0.005.. \n",
      "Epoch 84000/100000.. Train loss: 0.005.. \n",
      "Epoch 84500/100000.. Train loss: 0.005.. \n",
      "Epoch 85000/100000.. Train loss: 0.005.. \n",
      "Epoch 85500/100000.. Train loss: 0.005.. \n",
      "Epoch 86000/100000.. Train loss: 0.005.. \n",
      "Epoch 86500/100000.. Train loss: 0.005.. \n",
      "Epoch 87000/100000.. Train loss: 0.005.. \n",
      "Epoch 87500/100000.. Train loss: 0.005.. \n",
      "Epoch 88000/100000.. Train loss: 0.005.. \n",
      "Epoch 88500/100000.. Train loss: 0.005.. \n",
      "Epoch 89000/100000.. Train loss: 0.005.. \n",
      "Epoch 89500/100000.. Train loss: 0.005.. \n",
      "Epoch 90000/100000.. Train loss: 0.005.. \n",
      "Epoch 90500/100000.. Train loss: 0.005.. \n",
      "Epoch 91000/100000.. Train loss: 0.005.. \n",
      "Epoch 91500/100000.. Train loss: 0.005.. \n",
      "Epoch 92000/100000.. Train loss: 0.005.. \n",
      "Epoch 92500/100000.. Train loss: 0.005.. \n",
      "Epoch 93000/100000.. Train loss: 0.005.. \n",
      "Epoch 93500/100000.. Train loss: 0.005.. \n",
      "Epoch 94000/100000.. Train loss: 0.005.. \n",
      "Epoch 94500/100000.. Train loss: 0.005.. \n",
      "Epoch 95000/100000.. Train loss: 0.005.. \n",
      "Epoch 95500/100000.. Train loss: 0.005.. \n",
      "Epoch 96000/100000.. Train loss: 0.005.. \n",
      "Epoch 96500/100000.. Train loss: 0.005.. \n",
      "Epoch 97000/100000.. Train loss: 0.005.. \n",
      "Epoch 97500/100000.. Train loss: 0.005.. \n",
      "Epoch 98000/100000.. Train loss: 0.005.. \n"
     ]
    },
    {
     "name": "stdout",
     "output_type": "stream",
     "text": [
      "Epoch 98500/100000.. Train loss: 0.005.. \n",
      "Epoch 99000/100000.. Train loss: 0.005.. \n",
      "Epoch 99500/100000.. Train loss: 0.005.. \n",
      "Epoch 100000/100000.. Train loss: 0.005.. \n"
     ]
    }
   ],
   "source": [
    "training_loss = []\n",
    "true_MSE = [] # Evolution of MSE with the corrupted image\n",
    "\n",
    "z = torch.FloatTensor(z).to(device)\n",
    "for epoch in range(epochs):\n",
    "    steps += 1\n",
    "    optimizer.zero_grad()\n",
    "    logps = model.forward(z)\n",
    "    loss = criterion(logps[0], a)\n",
    "    loss.backward()\n",
    "    optimizer.step()\n",
    "    running_loss += loss.item()\n",
    "    \n",
    "    training_loss.append(loss.item())\n",
    "    true_MSE.append(criterion(logps[0], b).detach())\n",
    "    \n",
    "    if steps % print_every == 0:\n",
    "        with torch.no_grad():\n",
    "\n",
    "            imsave('denoised_img'+ str(steps) +'.png',logps[0].detach().cpu().numpy().transpose(1,2,0))                     \n",
    "            print(f\"Epoch {epoch+1}/{epochs}.. \"\n",
    "                  f\"Train loss: {running_loss/print_every:.3f}.. \")\n",
    "            running_loss = 0"
   ]
  },
  {
   "cell_type": "code",
   "execution_count": 16,
   "metadata": {},
   "outputs": [
    {
     "data": {
      "text/plain": [
       "[<matplotlib.lines.Line2D at 0x7ff81763ca20>]"
      ]
     },
     "execution_count": 16,
     "metadata": {},
     "output_type": "execute_result"
    },
    {
     "data": {
      "image/png": "[encoded data removed]",
      "text/plain": [
       "<Figure size 432x288 with 1 Axes>"
      ]
     },
     "metadata": {
      "needs_background": "light"
     },
     "output_type": "display_data"
    }
   ],
   "source": [
    "plt.plot(training_loss)"
   ]
  },
  {
   "cell_type": "code",
   "execution_count": 20,
   "metadata": {},
   "outputs": [
    {
     "data": {
      "text/plain": [
       "[<matplotlib.lines.Line2D at 0x7ff8174ae6a0>]"
      ]
     },
     "execution_count": 20,
     "metadata": {},
     "output_type": "execute_result"
    },
    {
     "data": {
      "image/png": "[encoded data removed]",
      "text/plain": [
       "<Figure size 432x288 with 1 Axes>"
      ]
     },
     "metadata": {
      "needs_background": "light"
     },
     "output_type": "display_data"
    }
   ],
   "source": [
    "plt.plot(true_MSE[1000:])"
   ]
  },
  {
   "cell_type": "code",
   "execution_count": null,
   "metadata": {},
   "outputs": [],
   "source": []
  },
  {
   "cell_type": "code",
   "execution_count": null,
   "metadata": {},
   "outputs": [],
   "source": []
  }
 ],
 "metadata": {
  "kernelspec": {
   "display_name": "Python 3",
   "language": "python",
   "name": "python3"
  },
  "language_info": {
   "codemirror_mode": {
    "name": "ipython",
    "version": 3
   },
   "file_extension": ".py",
   "mimetype": "text/x-python",
   "name": "python",
   "nbconvert_exporter": "python",
   "pygments_lexer": "ipython3",
   "version": "3.6.8"
  }
 },
 "nbformat": 4,
 "nbformat_minor": 2
}
